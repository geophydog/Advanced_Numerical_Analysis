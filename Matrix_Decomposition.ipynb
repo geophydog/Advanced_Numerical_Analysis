{
 "cells": [
  {
   "cell_type": "markdown",
   "metadata": {},
   "source": [
    "## 1.  $Gram-Schmidt$ orthogonization and $QR$ decomposition\n",
    "#### Let matrix $\\large{\\bar{A}_{n\\times n}}$ be\n",
    "$$\n",
    "\\Large{\n",
    "    \\bar{A} = [\\vec{a}_1, \\vec{a}_2, \\cdots, \\vec{a}_n] \\tag{1.1},\n",
    "}\n",
    "$$\n",
    "#### and set $\\large{\\vec{p}_1=\\vec{a}_1}$, we decompose $\\large{\\vec{a}_2,\\cdots, \\vec{a}_n}$ as\n",
    "$$\n",
    "\\Large{\n",
    "\\begin{aligned}\n",
    "    \\vec{p}_2 &= \\vec{a}_2 - \\frac{\\vec{p}_1^T\\vec{a}_2}{\\vec{p}_1^T\\vec{p}_1}\\vec{p}_1\\\\\n",
    "    \\vec{p}_3 &= \\vec{a}_3 - \\frac{\\vec{p}_1^T\\vec{a}_3}{\\vec{p}_1^T\\vec{p}_1}\\vec{p}_1-\\frac{\\vec{p}_2^T\\vec{a}_3}{\\vec{p}_2^T\\vec{p}_2}\\vec{p}_2\\\\\n",
    "    &\\vdots\\\\\n",
    "    \\vec{p}_n &= \\vec{a}_n-\\frac{\\vec{p}_1^T\\vec{a}_n}{\\vec{p}_1^T\\vec{p}_1}\\vec{p}_1-\\frac{\\vec{p}_2^T\\vec{a}_n}{\\vec{p}_2^T\\vec{p}_2}\\vec{p}_2-\\cdots -\\frac{\\vec{p}_{n-1}^T\\vec{a}_n}{\\vec{p}_{n-1}^T\\vec{p}_{n-1}}\\vec{p}_{n-1}\n",
    "\\end{aligned} \\tag{1.2}.\n",
    "}\n",
    "$$\n",
    "#### We normalize the vectors $\\large{\\vec{p}_i}$\n",
    "$$\n",
    "\\Large{\n",
    "    \\vec{q}_i = \\frac{\\vec{p}_i}{|\\vec{p}_i|} \\tag{1.3},\n",
    "}\n",
    "$$\n",
    "#### and let matrix $\\large{\\bar{Q}}$ be\n",
    "$$\n",
    "\\Large{\n",
    "    \\bar{Q} = [\\vec{q}_1, \\vec{q}_2, \\cdots, \\vec{q}_n] \\tag{1.4}.\n",
    "}\n",
    "$$\n",
    "#### We define a new matrix $\\large{\\bar{R}}$ as\n",
    "$$\n",
    "\\Large{\n",
    "    \\bar{R}_{ij} = \\vec{q}_i^T \\vec{a}_j \\tag{1.5},\n",
    "}\n",
    "$$\n",
    "#### where, we can prove that \n",
    "$$\n",
    "\\Large{\n",
    "    \\vec{q}_i \\cdot \\vec{a}_j = 0, \\text{ for } i > j \\tag{1.6}.\n",
    "}\n",
    "$$\n",
    "#### So the matrix $\\large{\\bar{R}}$ is upper triangular, and\n",
    "$$\n",
    "\\Large{\n",
    "    \\bar{A} = \\bar{Q}\\bar{R} \\tag{1.7}.\n",
    "}\n",
    "$$"
   ]
  },
  {
   "cell_type": "code",
   "execution_count": 135,
   "metadata": {},
   "outputs": [],
   "source": [
    "import numpy as np\n",
    "import matplotlib.pyplot as plt\n",
    "\n",
    "def solve_lin_eq_with_QR_decom(A, b):\n",
    "    n = len(A[0])\n",
    "    P = np.empty_like(A)\n",
    "    P[: 0] = A[: 0]\n",
    "    for i in range(1, n):\n",
    "        tmp = A[:, i]\n",
    "        for j in range(i):\n",
    "            tmp += -np.dot(P[:, j], A[:, i]) / np.dot(P[:, j], P[:, j]) * P[:, j]\n",
    "        P[:, i] = tmp\n",
    "    Q = np.empty_like(P); R = np.zeros_like(P)\n",
    "    for i in range(n):\n",
    "        Q[:, i] = P[:, i] / np.linalg.norm(P[:, i])\n",
    "        for j in range(n):\n",
    "            R[i, j] = Q[:, i].T @ A[:, j]\n",
    "            \n",
    "    plt.figure(figsize=(10, 2.5))\n",
    "    plt.subplot(131)\n",
    "    plt.pcolormesh(A, cmap='seismic', vmin=-1, vmax=1)\n",
    "    plt.colorbar()\n",
    "    ax = plt.gca()\n",
    "    ax.invert_yaxis()\n",
    "    plt.title(r'$\\bar{A}$', fontsize=14)\n",
    "    plt.subplot(132)\n",
    "    plt.pcolormesh(Q, cmap='seismic', vmin=-1, vmax=1)\n",
    "    plt.colorbar()\n",
    "    ax = plt.gca()\n",
    "    ax.invert_yaxis()\n",
    "    plt.title(r'$\\bar{Q}$', fontsize=14)\n",
    "    plt.subplot(133)\n",
    "    plt.pcolormesh(R, cmap='seismic', vmin=-1, vmax=1)\n",
    "    plt.colorbar()\n",
    "    ax = plt.gca()\n",
    "    ax.invert_yaxis()\n",
    "    plt.title(r'$\\bar{R}$', fontsize=14)\n",
    "    plt.show()\n",
    "\n",
    "#     return np.linalg.inv(R) @ Q.T @ b\n",
    "        "
   ]
  },
  {
   "cell_type": "code",
   "execution_count": 144,
   "metadata": {},
   "outputs": [
    {
     "name": "stdout",
     "output_type": "stream",
     "text": [
      "\n"
     ]
    },
    {
     "data": {
      "image/png": "[encoded data removed]",
      "text/plain": [
       "<Figure size 720x180 with 6 Axes>"
      ]
     },
     "metadata": {
      "needs_background": "light"
     },
     "output_type": "display_data"
    }
   ],
   "source": [
    "n = 3\n",
    "A = np.array([[.5, .2, .4],\n",
    "             [.4, .3, .1],\n",
    "              [.1, .3, .5]])\n",
    "# A = np.random.random((n, n))\n",
    "print('')\n",
    "bb = np.random.random(n).T\n",
    "solve_lin_eq_with_QR_decom(A, bb)"
   ]
  },
  {
   "cell_type": "markdown",
   "metadata": {},
   "source": [
    "$\\rule[0mm]{30cm}{.5mm}$\n",
    "## $\\text{2. Jacobi's iteration}$\n",
    "#### For the numerical solutions to eigensystem with $\\large{Jacobi's}$ iteration method for matrix $\\large{\\bar{A}}$,\n",
    "#### we follow these steps blow to find eigenvalues and corresponding eigenvectors.\n",
    "$$\n",
    "\\large{\n",
    "\\begin{aligned}\n",
    "    &\\boxed{\\text{Step 1}} \\text{: Finding the index of the maximal absolute value for off-diagonal element } p \\& q;\\\\ \\\\\n",
    "    &\\boxed{\\text{Step 2}} \\text{: Computing } \\theta \\text{ with } \\theta = \\frac{1}{2}tan^{-1}\\frac{2A_{pq}}{A_{pp}-A_{qq}};\\\\ \\\\\n",
    "    &\\boxed{\\text{Step 3}} \\text{: Finding othogonal matrix } \\bar{R} \\text{ with setting }\n",
    "        R_{pp}=R_{qq}=cos(\\theta); \\ R_{pq}=-R_{qp}=-sin(\\theta); R_{ii}=1, \\text{ for }i\\not=p,q; \\ \\text{ and off-diagonal elements zero};\\\\ \\\\\n",
    "    &\\boxed{\\text{Step 4}} \\text{: Computing matrix }\\bar{A}_k, \\bar{A_k}=\\bar{R}^T\\bar{A}\\bar{R} \\text{ and checking the error to dtermin whether stop iterating};\\\\ \\\\\n",
    "    & \\bigcirc \\text{ Setting } \\bar{A}=\\bar{A}_k \\text{ and repeat steps 1 - 4 if it doesn't satisfy the accuracy.}\n",
    "\\end{aligned}\n",
    "}\n",
    "$$"
   ]
  },
  {
   "cell_type": "code",
   "execution_count": 27,
   "metadata": {},
   "outputs": [],
   "source": [
    "import numpy as np\n",
    "\n",
    "# Finding othogonal matrix\n",
    "def get_orth_mat(a_pp, a_qq, a_pq, p, q, n):\n",
    "    theta = .5 * np.arctan(2*a_pq/(a_pp-a_qq))\n",
    "    R = np.eye(n)\n",
    "    cosp = np.cos(theta); sinp = np.sin(theta)\n",
    "    R[p, p] = cosp; R[q, q] = cosp\n",
    "    R[p, q] = -sinp; R[q, p] = sinp\n",
    "    return R\n",
    "\n",
    "# Fing the index of the maximal absolute value of off-diagonal element.\n",
    "def get_max_ele_index(A):\n",
    "    n = len(A[0])\n",
    "    p = 1e-10; index = [0, 0]\n",
    "    for i in range(n-1):\n",
    "        for j in range(i+1, n):\n",
    "            if abs(A[i, j]) > p:\n",
    "                p = abs(A[i, j])\n",
    "                index = [i, j]\n",
    "    return index\n",
    "\n",
    "# Checking error\n",
    "def check_error(A):\n",
    "    n = len(A); e = 0.\n",
    "    for i in range(1, n-1):\n",
    "        for j in range(i+1, n):\n",
    "            e += abs(A[i, j])\n",
    "    return 2*e\n",
    "\n",
    "# Jacobi's iteration method.\n",
    "def jacobi_ite(A, n_max=100, tol=1e-6):\n",
    "    n = len(A[0]); ite = 0\n",
    "    A1 = A; e = check_error(A1)\n",
    "    eivec = np.eye(n)\n",
    "    while ite < n_max and e >= tol:\n",
    "        p, q = get_max_ele_index(A1)\n",
    "        R = get_orth_mat(A1[p, p], A1[q, q], A1[p, q], p, q, n)\n",
    "        eivec = eivec @ R\n",
    "        A1 = R.T @ A1 @ R\n",
    "        e = check_error(A1)\n",
    "        ite += 1\n",
    "    eival = A1[range(n), range(n)]\n",
    "    return eival, eivec, e"
   ]
  },
  {
   "cell_type": "code",
   "execution_count": 28,
   "metadata": {},
   "outputs": [
    {
     "name": "stdout",
     "output_type": "stream",
     "text": [
      "\n",
      "eigenvalues:\n",
      " [ 3.29569866  8.40766196 11.70430134  6.59233804] \n",
      "eigenvectors:\n",
      " [[ 0.52877937 -0.57304222  0.58229764  0.23009661]\n",
      " [ 0.59196687  0.47230121  0.17577559 -0.62897514]\n",
      " [-0.53603872  0.28204972  0.79248727 -0.07123465]\n",
      " [ 0.2874545   0.60745546  0.04468031  0.73916943]]\n"
     ]
    }
   ],
   "source": [
    "# Test on a matrix given by Example 11.7 in textbook.\n",
    "A = np.array([[8, -1, 3, -1],\n",
    "             [-1, 6, 2, 0],\n",
    "             [3, 2, 9, 1],\n",
    "             [-1, 0, 1, 7]])\n",
    "\n",
    "eival, eivec, e = jacobi_ite(A, n_max=17, tol=1e-6)\n",
    "print('\\neigenvalues:\\n', eival, '\\neigenvectors:\\n', eivec)"
   ]
  },
  {
   "cell_type": "code",
   "execution_count": 7,
   "metadata": {},
   "outputs": [
    {
     "name": "stdout",
     "output_type": "stream",
     "text": [
      "[ 3.29569866  6.59233804  8.40766196 11.70430134]\n"
     ]
    }
   ],
   "source": [
    "print(np.linalg.eigh(A)[0])"
   ]
  },
  {
   "cell_type": "code",
   "execution_count": null,
   "metadata": {},
   "outputs": [],
   "source": []
  }
 ],
 "metadata": {
  "kernelspec": {
   "display_name": "Python 3",
   "language": "python",
   "name": "python3"
  },
  "language_info": {
   "codemirror_mode": {
    "name": "ipython",
    "version": 3
   },
   "file_extension": ".py",
   "mimetype": "text/x-python",
   "name": "python",
   "nbconvert_exporter": "python",
   "pygments_lexer": "ipython3",
   "version": "3.7.0"
  }
 },
 "nbformat": 4,
 "nbformat_minor": 2
}
